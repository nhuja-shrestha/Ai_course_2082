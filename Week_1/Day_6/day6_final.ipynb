{
  "nbformat": 4,
  "nbformat_minor": 0,
  "metadata": {
    "colab": {
      "provenance": []
    },
    "kernelspec": {
      "name": "python3",
      "display_name": "Python 3"
    },
    "language_info": {
      "name": "python"
    }
  },
  "cells": [
    {
      "cell_type": "markdown",
      "source": [
        "# Hands-On Practice: Pandas and Matplotlib"
      ],
      "metadata": {
        "id": "PZSz-m2gEC0c"
      }
    },
    {
      "cell_type": "markdown",
      "source": [
        "## Exercise 1: Creating a Pandas Series\n",
        "#### Pandas Series = 1-D array with labels"
      ],
      "metadata": {
        "id": "S_KGKf-DZBH5"
      }
    },
    {
      "cell_type": "code",
      "execution_count": 2,
      "metadata": {
        "colab": {
          "base_uri": "https://localhost:8080/"
        },
        "id": "PQd2VjINEBYE",
        "outputId": "32497042-0a92-4380-bb74-4f528b2fa403"
      },
      "outputs": [
        {
          "output_type": "stream",
          "name": "stdout",
          "text": [
            "Maths        30\n",
            "Physics      50\n",
            "Chemistry    29\n",
            "Biology      68\n",
            "English      89\n",
            "dtype: int64\n"
          ]
        }
      ],
      "source": [
        "#Importing pandas module\n",
        "import pandas as pd\n",
        "scores = pd.Series([30,50,29,68,89], index=[\"Maths\",\"Physics\",\"Chemistry\",\"Biology\",\"English\"])\n",
        "print(scores)\n",
        "\n",
        "# Task 1: Create a Pandas Series with values [10, 20, 30, 40] and indices [”A”,\n",
        "# ”B”, ”C”, ”D”]. Print the Series."
      ]
    },
    {
      "cell_type": "markdown",
      "source": [
        "## Exercise 2: Creating a Pandas DataFrame"
      ],
      "metadata": {
        "id": "fjFL3Dy8a2hL"
      }
    },
    {
      "cell_type": "markdown",
      "source": [
        "#### Dataframe is in a table format"
      ],
      "metadata": {
        "id": "Vh3RHt6Ua7Zq"
      }
    },
    {
      "cell_type": "code",
      "source": [
        "#Creating a dictionary\n",
        "data = {\n",
        "    \"Name\":[\"Aarav\",\"Ramesh\",\"Monika\"],\n",
        "    \"Class\":[7,8,9],\n",
        "    \"Roll\":[1,2,3],\n",
        "    \"Address\":[\"Pokhara\",\"Butwal\",\"Jhapa\"]\n",
        "}\n",
        "#Turning dictionary into a dataframe\n",
        "df= pd.DataFrame(data)\n",
        "print(df)\n",
        "\n",
        "print(df.to_string(index=False))\n",
        "\n",
        "# Task 2: Create a DataFrame with columns ”City” ([”Paris”, ”Tokyo”, ”Syd-\n",
        "# ney”]) and ”Population” ([2.1, 37.4, 5.3]). Print the DataFrame."
      ],
      "metadata": {
        "colab": {
          "base_uri": "https://localhost:8080/"
        },
        "id": "xU2drqKsaYLI",
        "outputId": "a513101e-f5e3-4f60-eb44-64a266cbf96c"
      },
      "execution_count": 4,
      "outputs": [
        {
          "output_type": "stream",
          "name": "stdout",
          "text": [
            "     Name  Class  Roll  Address\n",
            "0   Aarav      7     1  Pokhara\n",
            "1  Ramesh      8     2   Butwal\n",
            "2  Monika      9     3    Jhapa\n",
            "  Name  Class  Roll Address\n",
            " Aarav      7     1 Pokhara\n",
            "Ramesh      8     2  Butwal\n",
            "Monika      9     3   Jhapa\n"
          ]
        }
      ]
    },
    {
      "cell_type": "markdown",
      "source": [
        "## Exercise 3: Filtering Data in a DataFrame"
      ],
      "metadata": {
        "id": "tBl-k52bdbHI"
      }
    },
    {
      "cell_type": "code",
      "source": [
        "#Creating a dictionary\n",
        "data = {\n",
        "    \"Name\":[\"Aarav\",\"Ramesh\",\"Monika\"],\n",
        "    \"Class\":[7,8,9],\n",
        "    \"Roll\":[1,2,3],\n",
        "    \"Address\":[\"Pokhara\",\"Butwal\",\"Jhapa\"]\n",
        "}\n",
        "#Turning dictionary into a dataframe\n",
        "df= pd.DataFrame(data)\n",
        "\n",
        "#Filtering\n",
        "filter = df[df[\"Class\"] > 8]\n",
        "print(filter)\n",
        "\n",
        "#Task 3: Create a DataFrame with columns ”Name” ([”Eve”, ”Frank”, ”Grace”])\n",
        "# and ”Age” ([19, 23, 20]). Filter rows where Age is greater than 20 and print the\n",
        "# result."
      ],
      "metadata": {
        "colab": {
          "base_uri": "https://localhost:8080/"
        },
        "id": "pZRWuY7fceg6",
        "outputId": "6f4c2e40-74da-48eb-ebf9-c6dbc7416a3b"
      },
      "execution_count": 8,
      "outputs": [
        {
          "output_type": "stream",
          "name": "stdout",
          "text": [
            "     Name  Class  Roll Address\n",
            "2  Monika      9     3   Jhapa\n"
          ]
        }
      ]
    },
    {
      "cell_type": "markdown",
      "source": [
        "## Exercise 4: Reading and Processing a CSV File"
      ],
      "metadata": {
        "id": "NIPzT-duepnm"
      }
    },
    {
      "cell_type": "code",
      "source": [
        "import io\n",
        "\n",
        "csv_data = \"\"\"\n",
        "Name,Class,Roll,Grade,Address\n",
        "Aarav,7,1,45,Pokhara\n",
        "Ramesh,8,2,49,Butwal\n",
        "Monika,9,3,98,Jhapa\n",
        "\"\"\"\n",
        "df = pd.read_csv(io.StringIO(csv_data))\n",
        "print(df)\n",
        "\n",
        "# #Filter\n",
        "# filter = df[df[\"Class\"] > 7]\n",
        "# print(filter)\n",
        "\n",
        "#Calculate average grade\n",
        "average_grade = df['Grade'].mean()\n",
        "print(average_grade)\n",
        "\n",
        "#Task 4: Simulate a CSV string with columns ”Product” ([”Apple”, ”Banana”,\n",
        "# ”Orange”]) and ”Price” ([1.0, 0.5, 0.75]). Read it into a DataFrame and print the\n",
        "# sum of prices using df[”Price”].sum()."
      ],
      "metadata": {
        "colab": {
          "base_uri": "https://localhost:8080/"
        },
        "id": "TN0O7vBpd0QQ",
        "outputId": "ec0873a1-2f17-4f15-d028-5b298a284699"
      },
      "execution_count": 13,
      "outputs": [
        {
          "output_type": "stream",
          "name": "stdout",
          "text": [
            "     Name  Class  Roll  Grade  Address\n",
            "0   Aarav      7     1     45  Pokhara\n",
            "1  Ramesh      8     2     49   Butwal\n",
            "2  Monika      9     3     98    Jhapa\n",
            "64.0\n"
          ]
        }
      ]
    },
    {
      "cell_type": "markdown",
      "source": [
        "## Exercise 5: Basic Plotting with Matplotlib"
      ],
      "metadata": {
        "id": "ira0n56yhnNX"
      }
    },
    {
      "cell_type": "code",
      "source": [
        "import matplotlib.pyplot as plt\n",
        "\n",
        "#Defining Data For basic plotting\n",
        "x = [1,2,3,4,5]\n",
        "y= [2,4,6,8,10]\n",
        "\n",
        "plt.plot(x,y,marker='*')\n",
        "plt.title(\"Plotting Example\")\n",
        "plt.xlabel(\"X-Axis\")\n",
        "plt.ylabel(\"Y-Axis\")\n",
        "plt.grid(True)\n",
        "plt.savefig(\"my_first_plot.png\")\n",
        "plt.show()\n",
        "\n",
        "## Task 5: Create a line plot with x-values [0, 1, 2, 3] and y-values [0, 1, 4, 9]. Add\n",
        "# a title, labels, and grid, then save it as squareplot.png."
      ],
      "metadata": {
        "colab": {
          "base_uri": "https://localhost:8080/",
          "height": 472
        },
        "id": "NWKhM5lffrwm",
        "outputId": "77701976-e39d-4a37-8715-9979866befa7"
      },
      "execution_count": 19,
      "outputs": [
        {
          "output_type": "display_data",
          "data": {
            "text/plain": [
              "<Figure size 640x480 with 1 Axes>"
            ],
            "image/png": "[encoded data removed]"
          },
          "metadata": {}
        }
      ]
    },
    {
      "cell_type": "markdown",
      "source": [
        "## Exercise 6: Visualizing a DataFrame with Matplotlib"
      ],
      "metadata": {
        "id": "Hc9Ts7CMkAZI"
      }
    },
    {
      "cell_type": "code",
      "source": [
        "data = {\n",
        "    \"Name\": [\"Aarav\", \"Ramesh\", \"Monika\", \"Ashnir\"],\n",
        "    \"Class\": [7, 8, 9,12]\n",
        "}\n",
        "df = pd.DataFrame(data)\n",
        "\n",
        "plt.bar(df[\"Name\"],df[\"Class\"])\n",
        "plt.title(\"Bar Plot\")\n",
        "plt.xlabel(\"Name\")\n",
        "plt.ylabel(\"Class\")\n",
        "plt.show()\n",
        "\n",
        "# Task 6: Create a DataFrame with columns ”City” ([”London”, ”Paris”,\n",
        "# ”Tokyo”]) and ”Population” ([9.0, 2.1, 37.4]). Create a bar plot\n",
        "# of Population vs. City, add labels and a title, and save it as populationplot.png."
      ],
      "metadata": {
        "colab": {
          "base_uri": "https://localhost:8080/",
          "height": 472
        },
        "id": "FlTQr7gAiJ3V",
        "outputId": "bffadfa6-c92e-4dca-c35d-ad706aa70c55"
      },
      "execution_count": 20,
      "outputs": [
        {
          "output_type": "display_data",
          "data": {
            "text/plain": [
              "<Figure size 640x480 with 1 Axes>"
            ],
            "image/png": "[encoded data removed]"
          },
          "metadata": {}
        }
      ]
    },
    {
      "cell_type": "code",
      "source": [],
      "metadata": {
        "id": "Z5FT5gzskfVb"
      },
      "execution_count": null,
      "outputs": []
    }
  ]
}