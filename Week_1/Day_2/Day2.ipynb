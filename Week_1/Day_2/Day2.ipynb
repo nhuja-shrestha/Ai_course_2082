{
  "nbformat": 4,
  "nbformat_minor": 0,
  "metadata": {
    "colab": {
      "provenance": []
    },
    "kernelspec": {
      "name": "python3",
      "display_name": "Python 3"
    },
    "language_info": {
      "name": "python"
    }
  },
  "cells": [
    {
      "cell_type": "markdown",
      "source": [
        "##**Day-1 coding**"
      ],
      "metadata": {
        "id": "WqPyeHb3ryyv"
      }
    },
    {
      "cell_type": "code",
      "source": [
        "print(\"This is my first day coding python\")"
      ],
      "metadata": {
        "colab": {
          "base_uri": "https://localhost:8080/"
        },
        "id": "s26Orf7JsrZF",
        "outputId": "80f72bc9-6820-49f8-be66-65d3c9e8ff05"
      },
      "execution_count": 5,
      "outputs": [
        {
          "output_type": "stream",
          "name": "stdout",
          "text": [
            "This is my first day coding python\n"
          ]
        }
      ]
    },
    {
      "cell_type": "markdown",
      "source": [
        "#loops in python"
      ],
      "metadata": {
        "id": "agGmSlzqtyjV"
      }
    },
    {
      "cell_type": "code",
      "source": [
        "for i in range(1,11):\n",
        "  print(i)"
      ],
      "metadata": {
        "colab": {
          "base_uri": "https://localhost:8080/"
        },
        "id": "soRRTARSs22J",
        "outputId": "8c1db7da-0dee-4757-e0bb-880197c84dd9"
      },
      "execution_count": 7,
      "outputs": [
        {
          "output_type": "stream",
          "name": "stdout",
          "text": [
            "1\n",
            "2\n",
            "3\n",
            "4\n",
            "5\n",
            "6\n",
            "7\n",
            "8\n",
            "9\n",
            "10\n"
          ]
        }
      ]
    },
    {
      "cell_type": "markdown",
      "source": [
        "squares of natural number"
      ],
      "metadata": {
        "id": "b53hUzxjuNvV"
      }
    },
    {
      "cell_type": "code",
      "source": [
        "for i in range(1,11):\n",
        "  print(i*i)   #squares of 10 natural numbers"
      ],
      "metadata": {
        "colab": {
          "base_uri": "https://localhost:8080/"
        },
        "id": "yCA_jSWKt8BM",
        "outputId": "4c0af733-e299-4418-de98-291b6a001a4e"
      },
      "execution_count": 8,
      "outputs": [
        {
          "output_type": "stream",
          "name": "stdout",
          "text": [
            "1\n",
            "4\n",
            "9\n",
            "16\n",
            "25\n",
            "36\n",
            "49\n",
            "64\n",
            "81\n",
            "100\n"
          ]
        }
      ]
    },
    {
      "cell_type": "markdown",
      "source": [
        "#Functions"
      ],
      "metadata": {
        "id": "6tBh99k-usbV"
      }
    },
    {
      "cell_type": "code",
      "source": [
        "num=int(input(\"Enter the length:\\n\"))   #taking input from user\n",
        "def area(a):                            #defining a function\n",
        "  return a*a\n",
        "print(\"area of square:\",area(num))      #calling a function"
      ],
      "metadata": {
        "colab": {
          "base_uri": "https://localhost:8080/"
        },
        "id": "r1wNJe7DuTMr",
        "outputId": "66d1c86a-354f-438e-d6ea-3c495e14f3d6"
      },
      "execution_count": 11,
      "outputs": [
        {
          "output_type": "stream",
          "name": "stdout",
          "text": [
            "Enter the length:\n",
            "9\n",
            "area of square: 81\n"
          ]
        }
      ]
    },
    {
      "cell_type": "markdown",
      "source": [
        "#homework:Find area of circle"
      ],
      "metadata": {
        "id": "0bsY-U8bvuJ1"
      }
    },
    {
      "cell_type": "code",
      "source": [],
      "metadata": {
        "id": "28xBqdvTvBAd"
      },
      "execution_count": null,
      "outputs": []
    },
    {
      "cell_type": "markdown",
      "source": [
        "#Lists"
      ],
      "metadata": {
        "id": "Dt4_-7Iawqgs"
      }
    },
    {
      "cell_type": "code",
      "source": [
        "fruits=[\"apple\",\"banana\",\"mango\",\"litchi\",\"kiwi\",\"watermelon\"]    #defining a list\n",
        "print(fruits)                                                     #printing\n",
        "#accessing list\n",
        "print(fruits[0])\n",
        "print(fruits[-1])\n",
        "print(fruits[2])\n",
        "\n",
        "#Adding or removing elements from list\n",
        "fruits.append(\"grapes\")\n",
        "print(fruits)\n",
        "fruits.remove(\"mango\")\n",
        "print(fruits)"
      ],
      "metadata": {
        "colab": {
          "base_uri": "https://localhost:8080/"
        },
        "id": "yrtpC_iFwsFV",
        "outputId": "d82e7597-9149-40ca-b39b-11c9f66c03d1"
      },
      "execution_count": 19,
      "outputs": [
        {
          "output_type": "stream",
          "name": "stdout",
          "text": [
            "['apple', 'banana', 'mango', 'litchi', 'kiwi', 'watermelon']\n",
            "apple\n",
            "watermelon\n",
            "mango\n",
            "['apple', 'banana', 'mango', 'litchi', 'kiwi', 'watermelon', 'grapes']\n",
            "['apple', 'banana', 'litchi', 'kiwi', 'watermelon', 'grapes']\n"
          ]
        }
      ]
    },
    {
      "cell_type": "markdown",
      "source": [],
      "metadata": {
        "id": "kXHcuEmtxJgk"
      }
    },
    {
      "cell_type": "markdown",
      "source": [
        "#Sets and Tuples"
      ],
      "metadata": {
        "id": "Dyw3V-3cykaz"
      }
    },
    {
      "cell_type": "code",
      "source": [],
      "metadata": {
        "id": "_YLLg1Mgwuo0"
      },
      "execution_count": null,
      "outputs": []
    },
    {
      "cell_type": "markdown",
      "source": [
        "#Dictionary in Python"
      ],
      "metadata": {
        "id": "vUPefVcIyrV0"
      }
    },
    {
      "cell_type": "code",
      "source": [
        "student={\n",
        "    \"name\":\"Nhuja\",\n",
        "    \"age\":30,\n",
        "    \"gender\":\"male\",\n",
        "    \"address\":\"Kathmandu\"\n",
        "}\n",
        "#Accessing values from Dictionary\n",
        "print(student[\"name\"])\n",
        "print(student.items())\n",
        "print(student.keys())\n",
        "print(student.values())\n",
        "\n",
        "#updating Dictionary\n",
        "student[\"age\"]=20\n",
        "print(student)\n",
        "\n",
        "#Adding new value pair in existing dictionary\n",
        "student[\"country\"]=\"Nepal\"\n",
        "print(student)\n",
        "\n",
        "#Deleting items from dictionary\n",
        "del student[\"age\"]\n",
        "print(student)"
      ],
      "metadata": {
        "colab": {
          "base_uri": "https://localhost:8080/"
        },
        "id": "GSzQPZcOywbs",
        "outputId": "bad84777-ca0f-40a6-a3ca-4713e995e0e7"
      },
      "execution_count": 33,
      "outputs": [
        {
          "output_type": "stream",
          "name": "stdout",
          "text": [
            "Nhuja\n",
            "dict_items([('name', 'Nhuja'), ('age', 30), ('gender', 'male'), ('address', 'Kathmandu')])\n",
            "dict_keys(['name', 'age', 'gender', 'address'])\n",
            "dict_values(['Nhuja', 30, 'male', 'Kathmandu'])\n",
            "{'name': 'Nhuja', 'age': 20, 'gender': 'male', 'address': 'Kathmandu'}\n",
            "{'name': 'Nhuja', 'age': 20, 'gender': 'male', 'address': 'Kathmandu', 'country': 'Nepal'}\n",
            "{'name': 'Nhuja', 'gender': 'male', 'address': 'Kathmandu', 'country': 'Nepal'}\n"
          ]
        }
      ]
    },
    {
      "cell_type": "code",
      "source": [],
      "metadata": {
        "id": "rjd9LvJ0zFaE"
      },
      "execution_count": null,
      "outputs": []
    }
  ]
}